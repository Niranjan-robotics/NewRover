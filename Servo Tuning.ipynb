{
 "cells": [
  {
   "cell_type": "code",
   "execution_count": 10,
   "metadata": {},
   "outputs": [],
   "source": [
    "from __future__ import division\n",
    "import time\n",
    "# Import the PCA9685 module.\n",
    "import Adafruit_PCA9685\n",
    "import time"
   ]
  },
  {
   "cell_type": "markdown",
   "metadata": {},
   "source": [
    "Initialize"
   ]
  },
  {
   "cell_type": "code",
   "execution_count": 11,
   "metadata": {},
   "outputs": [],
   "source": [
    "pwm = Adafruit_PCA9685.PCA9685()\n",
    "pwm.set_pwm_freq(60) # 60hz"
   ]
  },
  {
   "cell_type": "raw",
   "metadata": {},
   "source": [
    "setPWM(channel, on, off)\n",
    "Description\n",
    "This function sets the start (on) and end (off) of the high segment of the PWM pulse on a specific channel.  You specify the 'tick' value between 0..4095 when the signal will turn on, and when it will turn off.  Channel indicates which of the 16 PWM outputs should be updated with the new values.\n",
    "\n",
    "Arguments\n",
    "channel: The channel that should be updated with the new values (0..15)\n",
    "on: The tick (between 0..4095) when the signal should transition from low to high\n",
    "off:the tick (between 0..4095) when the signal should transition from high to low\n",
    "\n",
    "Example:\n",
    "The following example will cause channel 15 to start low, go high around 25% into the pulse (tick 1024 out of 4096), transition back to low 75% into the pulse (tick 3072), and remain low for the last 25% of the pulse:\n",
    "\n",
    "when you combine on + off    = 4095\n",
    "                 1024 + 3072 = 4095\n",
    "                 3072 + 1024 = 4095"
   ]
  },
  {
   "cell_type": "code",
   "execution_count": 3,
   "metadata": {},
   "outputs": [],
   "source": [
    "pwm.set_pwm(1, 1024, 3072)"
   ]
  },
  {
   "cell_type": "markdown",
   "metadata": {},
   "source": [
    "You can set the pin to be fully on with\n",
    "\n",
    "pwm.setPWM(1, 4096, 0);"
   ]
  },
  {
   "cell_type": "code",
   "execution_count": 8,
   "metadata": {},
   "outputs": [],
   "source": [
    "pwm.set_pwm(1, 4096, 0)"
   ]
  },
  {
   "cell_type": "code",
   "execution_count": 12,
   "metadata": {},
   "outputs": [],
   "source": [
    "pwm.set_pwm(1, 3072, 1024)"
   ]
  },
  {
   "cell_type": "code",
   "execution_count": null,
   "metadata": {},
   "outputs": [],
   "source": []
  }
 ],
 "metadata": {
  "kernelspec": {
   "display_name": "Python 3",
   "language": "python",
   "name": "python3"
  },
  "language_info": {
   "codemirror_mode": {
    "name": "ipython",
    "version": 3
   },
   "file_extension": ".py",
   "mimetype": "text/x-python",
   "name": "python",
   "nbconvert_exporter": "python",
   "pygments_lexer": "ipython3",
   "version": "3.7.3"
  }
 },
 "nbformat": 4,
 "nbformat_minor": 2
}
